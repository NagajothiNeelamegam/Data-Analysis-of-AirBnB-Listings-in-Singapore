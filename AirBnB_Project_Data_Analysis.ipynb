# Installing package
!pip install pandas
!pip install plotly
# Importing package
import pandas as pd
import plotly.express as px
# Extracting reviews data
reviews_df = pd.read_csv('reviews(22Sep2022).csv', index_col = 'Unnamed: 0')
reviews_df.reset_index(drop = True, inplace = True)
reviews_df.head(10)
# Extracting listings data
listings_df = pd.read_csv('listings(22Sep2022).csv', index_col = 'Unnamed: 0')
listings_df.reset_index(drop = True, inplace = True)
listings_df.head(10)
# Extracting neighbourhood data
neighbourhood_df = pd.read_csv('neighbourhood(22Sep2022).csv', index_col = 'Unnamed: 0')
neighbourhood_df.reset_index(drop = True, inplace = True)
neighbourhood_df.head(10)
# Renting Trend From 01-01-2018 To 22-09-2022
# Adding month column
reviews_df['month'] = reviews_df['date'].str.slice(0,7)
reviews_df.head()


# Data preparation
monthly_reviews_df = reviews_df.groupby("month")["listing_id"].count().reset_index()
monthly_reviews_df.head(10)
# create plot
fig = px.line(monthly_reviews_df, x = 'month', y = 'listing_id', markers = True)

# Update title
fig.update_layout(title = '<b>Monthly Renting Trend From 2018-01-01 To 2022-09-22</b>', title_font = dict(size = 23, family = 'arial', color = 'light blue'), title_x = 0.5)

# Update X Axes
fig.update_xaxes(dtick="M4", tickformat="%b\n%Y")

# Update x & y label
fig.update_xaxes(title = '<b>Month</b>', title_font = dict(size = 15, color = 'grey', family = 'arial'))
fig.update_yaxes(title = '<b>Total Rents</b>', title_font = dict(size = 15, color = 'grey', family = 'arial'))

# Uppdate Line
fig.update_traces(line = dict(width = 3), marker = dict(size = 7))

# Adding Annotation
fig.add_annotation(text="Significant decline<br> in January 2020", x="2020-05", y=1350, showarrow=False)
fig.add_annotation(text="Significant rise<br> in March 2022", x="2022-01", y=1600, showarrow=False)

# Show Plot
fig.show()
# Yearly Renting Trend
# Adding year column
reviews_df['year'] = reviews_df['date'].str.slice(0,4).astype('int')
reviews_df.head()
# Data preparation
yearly_reviews_df = reviews_df.groupby("year")["listing_id"].count().reset_index()
yearly_reviews_df.head(10)
# create plot
fig_yearly = px.bar(yearly_reviews_df, x = 'year', y = 'listing_id')

# Update title
fig_yearly.update_layout(title = '<b>Yearly Renting Trend</b>', title_font = dict(size = 23, family = 'arial', color = 'light blue'), title_x = 0.5, xaxis = dict(
        tickmode = 'array',
        tickvals = [2018, 2019, 2020, 2021, 2022],
        ticktext = [2018, 2019, 2020, 2021, 2022]
    ))

# Update x & y label
fig_yearly.update_xaxes(title = '<b>Year</b>', title_font = dict(size = 15, color = 'grey', family = 'arial'))
fig_yearly.update_yaxes(title = '<b>Total Rents</b>', title_font = dict(size = 15, color = 'grey', family = 'arial'), range=[0, 20000])

# Adding Annotation
fig_yearly.add_annotation(text="Highest<br> in 2019", x='2019', y=15500, showarrow=False, font = dict(size = 15))
fig_yearly.add_annotation(text="Lowest<br> in 2021", x='2021', y=8500, showarrow=False, font = dict(size = 15))

# Show plot
fig_yearly.show()
# Price analysis based on room type
# Data preparation
price_agg_listings_df = listings_df.groupby('room_type')['price'].median().reset_index()
price_agg_listings_df.sort_values(by = ['price'], ascending = True, inplace = True)
price_agg_listings_df
# Creating plot
fig_price = px.bar(price_agg_listings_df, x = 'room_type', y = 'price', text = 'price')

# Update title & X-axis font
fig_price.update_layout(title = '<b>Median Price of Room Types</b>', title_font = dict(size = 23, family = 'arial', color = 'light blue'), 
                        title_x = 0.5, xaxis = dict(tickfont = dict(size=20)))

# Update price text
fig_price.update_traces(textposition='outside', textfont = dict(size = 15, family = 'arial'), texttemplate = '%{text}S$')

# Update x & y label
fig_price.update_xaxes(title = '<b>Room Type</b>', title_font = dict(size = 20, color = 'grey', family = 'arial'))
fig_price.update_yaxes(title = '<b>Median Rent Price</b>', title_font = dict(size = 20, color = 'grey', family = 'arial'))

# Show plot
fig_price.show()
# Rent analysis based on room type
# Data preparation

# Grouping by listing_id
id_agg_reviews_df = reviews_df.groupby('listing_id')['date'].count().reset_index()
id_agg_reviews_df.rename(columns={'listing_id':'id'}, inplace = True)

# Merging listings_df with id_agg_reviews_df
listings_id_reviews_df = pd.merge(left = id_agg_reviews_df, right = listings_df, how = 'inner', left_on = 'id', right_on = 'id')
listings_id_reviews_df.rename(columns={'date':'no_reviews'}, inplace = True)

# Grouping by room type
room_type_listings_reviews_df = listings_id_reviews_df.groupby('room_type')['no_reviews'].count().reset_index()
room_type_listings_reviews_df.sort_values(by = ['no_reviews'], ascending = True, inplace = True)
room_type_listings_reviews_df.head()
# Create plot
fig_reviews = px.pie(room_type_listings_reviews_df, values = 'no_reviews', color = 'room_type', 
                     title = '<b>Reviews by Room Type</b>', 
                     names = 'room_type', color_discrete_sequence = ['#F5EA5A','#C780FA','#8DCEB6','#F48484'], 
                     hole = 0.6)

# Update Title
fig_reviews.update_layout(title = '<b>Reviews by Room Type</b>', title_font = dict(size = 25, family = 'arial', color = 'light blue'))

# Update traces
fig_reviews.update_traces(textposition = 'outside', textfont = dict(color = 'dark blue', size = 15), textinfo = 'label+percent', pull = [0,0,0,0.2], rotation = 200)

# Add Annotations
fig_reviews.add_annotation (text = '<b>Reviews Share</b>', showarrow = False, font = dict(size = 16, color='dark blue'))

# Show Plot
fig_reviews.show()
# Price analysis based on neighbourhood
# Data preparation
neighbourhood_agg_df = listings_df.groupby('neighbourhood')['price'].median().reset_index()
neighbourhood_agg_df.sort_values(by = ['price'], ascending = True, inplace = True)

# Excluding Neighbourhoods with only 1 property
neighbourhood_agg_df.drop([41, 22, 27, 17], inplace = True)

neighbourhood_agg_df.head()
# Creating plot
fig_neighbourhood = px.bar(neighbourhood_agg_df, x = 'neighbourhood', y = 'price')

# Update title & X & Y-axis font
fig_neighbourhood.update_layout(title = '<b>Median Price of Neighbourhoods<br>(Excluding Single Property Neighbourhoods)</b>', 
                                title_font = dict(size = 23, family = 'arial', color = 'light blue'), 
                                title_x = 0.5, xaxis = dict(tickfont = dict(size=15)), yaxis = dict(tickmode = 'array', 
                                tickvals = [0, 200, 400, 600], ticktext = ['0S$', '200S$', '400S$', '600S$']))

# Update x & y label
fig_neighbourhood.update_xaxes(title = '<b>Neighbourhood</b>', title_font = dict(size = 20, color = 'grey', family = 'arial'))
fig_neighbourhood.update_yaxes(title = '<b>Median Rent Price</b>', title_font = dict(size = 20, color = 'grey', family = 'arial'))

# Show plot
fig_neighbourhood.show()
# Price analysis based on neighbourhood group
# Data preparation (Excluding neighbourhoods with only 1 property)

# Merging neighbourhood_agg_df with neighbourhood_df
neighbourhood_group_df = pd.merge(left = neighbourhood_df, right = neighbourhood_agg_df, 
                                  how = 'inner', left_on = 'neighbourhood', right_on = 'neighbourhood')

# Grouping by neighbourhood group
neighbourhood_group_agg_df = neighbourhood_group_df.groupby('neighbourhood_group')['price'].median().reset_index()
neighbourhood_group_agg_df.sort_values(by = ['price'], ascending = True, inplace = True)
neighbourhood_group_agg_df.head()
# Creating plot
fig_neighbourhood_group = px.bar(neighbourhood_group_agg_df, x = 'neighbourhood_group', y = 'price', text = 'price')

# Update title & X & Y-axis font
fig_neighbourhood_group.update_layout(title = '<b>Median Price of Neighbourhood Groups<br>(Excluding Single Property Neighbourhoods)</b>', 
                                title_font = dict(size = 23, family = 'arial', color = 'light blue'), 
                                title_x = 0.5, xaxis = dict(tickfont = dict(size=15)))

# Update price text
fig_neighbourhood_group.update_traces(textposition='outside', textfont = dict(size = 15, family = 'arial'), texttemplate = '%{text}S$')

# Update x & y label
fig_neighbourhood_group.update_xaxes(title = '<b>Neighbourhood Group</b>', title_font = dict(size = 20, color = 'grey', family = 'arial'))
fig_neighbourhood_group.update_yaxes(title = '<b>Median Rent Price</b>', title_font = dict(size = 20, color = 'grey', family = 'arial'))

# Show plot
fig_neighbourhood_group.show()
# Popular listings per neighbourhood group
# Finding the 75th percentile of number of reviews
listings_id_reviews_df['no_reviews'].describe()
# Data preparation
popular_listings_id_reviews_df = listings_id_reviews_df[listings_id_reviews_df['no_reviews']>19]

# Grouping by neighbourhood
popular_neighbourhood_agg_df = popular_listings_id_reviews_df.groupby('neighbourhood')['no_reviews'].count().reset_index()
popular_neighbourhood_agg_df.rename(columns={'no_reviews':'no_popular_listings'}, inplace = True)

# Merging dataframes
popular_df = pd.merge(left = neighbourhood_df, right = popular_neighbourhood_agg_df, 
                      how = 'inner', left_on = 'neighbourhood', right_on = 'neighbourhood')

# Grouping by neighbourhood group
popular_df = popular_df.groupby('neighbourhood_group')['no_popular_listings'].sum().reset_index()
popular_df.sort_values(by = ['no_popular_listings'], ascending = True, inplace = True)
popular_df.head()
# Create plot
fig_popular = px.pie(popular_df, values = 'no_popular_listings', color = 'neighbourhood_group', 
                     title = '<b>Share of Popular Listings per Neighbourhood Group</b>', 
                     names = 'neighbourhood_group', color_discrete_sequence = ['#F5EA5A','#C780FA','#8DCEB6','#FFD4D4','#F48484'], 
                     hole = 0.6)

# Update Title
fig_popular.update_layout(title = '<b>Share of Popular Listings per Neighbourhood Group</b>', title_font = dict(size = 25, family = 'arial', color = 'light blue'))

# Update traces
fig_popular.update_traces(textposition = 'outside', textfont = dict(color = 'dark blue', size = 15), textinfo = 'label+percent', pull = [0,0,0,0,0.2], rotation = 230)

# Add Annotations
fig_popular.add_annotation (text = '<b>Popular Listings</b>', showarrow = False, font = dict(size = 16, color='dark blue'))

# Show Plot
fig_popular.show()
# Active listings before and after 2020-01-23
# Data preparation

# Finding number of active listings before and after 2020-01-23
list_id_before = []
list_id_after = []

for i, x in zip(reviews_df['listing_id'], reviews_df['date']):
  if x < '2020-01-23':
    if i not in list_id_before:
      list_id_before.append(i)

for i, x in zip(reviews_df['listing_id'], reviews_df['date']):
  if x >= '2020-01-23':
    if i in list_id_before:
      if i not in list_id_after:
        list_id_after.append(i)

# Creating new data frame
active_dict = {'active_listings':[len(list_id_before), len(list_id_after)], 'time_period':['Before', 'After']}
active_df = pd.DataFrame(active_dict)
active_df.sort_values(by = 'active_listings', ascending=True, inplace=True)
active_df
# Creating plot
fig_active = px.bar(active_df, x = 'active_listings', y = 'time_period', text = 'active_listings')

# Update title & X & Y-axis font
fig_active.update_layout(title = '<b>Comparison of Active Listings Before and After 2020-01-23</b>', 
                                title_font = dict(size = 23, family = 'arial', color = 'light blue'), 
                                title_x = 0.5, yaxis = dict(tickfont = dict(size=20)))

# Update text
fig_active.update_traces(textposition='outside', textfont = dict(size = 15, family = 'arial'))

# Update x & y label
fig_active.update_xaxes(title = '<b>No. of Active Listings</b>', title_font = dict(size = 20, color = 'grey', family = 'arial'))
fig_active.update_yaxes(title = '<b>Time Period</b>', title_font = dict(size = 20, color = 'grey', family = 'arial'))

# Adding Annotation
fig_active.add_annotation(text="(Active before and after 2020-01-23)", x='1100', y='After', showarrow=False, font = dict(size = 18))

# Show plot
fig_active.show()
